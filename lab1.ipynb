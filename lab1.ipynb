{
 "cells": [
  {
   "cell_type": "code",
   "execution_count": 1,
   "metadata": {},
   "outputs": [],
   "source": [
    "from math import sqrt"
   ]
  },
  {
   "cell_type": "markdown",
   "metadata": {},
   "source": [
    "# Лабораторная работа №1"
   ]
  },
  {
   "cell_type": "markdown",
   "metadata": {},
   "source": [
    "### Полезные ссылки:\n",
    "- [описание лабы](http://mathdep.ifmo.ru/wp-content/uploads/2021/02/lab_1_optimization.pdf)\n",
    "- [теория 1 таски](http://mathdep.ifmo.ru/wp-content/uploads/2020/09/lec_1_optimization.pdf)\n",
    "- [+ 1 таске](machinelearning.ru/wiki/index.php?title=Метод_золотого_сечения._Симметричные_методы)"
   ]
  },
  {
   "cell_type": "markdown",
   "metadata": {},
   "source": [
    "## Методы одномерного поиска"
   ]
  },
  {
   "cell_type": "markdown",
   "metadata": {},
   "source": [
    "#### Test data"
   ]
  },
  {
   "cell_type": "code",
   "execution_count": 2,
   "metadata": {},
   "outputs": [],
   "source": [
    "def f(x):\n",
    "    return x**2\n",
    "\n",
    "a = -5\n",
    "b = 3\n",
    "eps = 0.001"
   ]
  },
  {
   "cell_type": "markdown",
   "metadata": {},
   "source": [
    "$a < x_1 < x_2 < b$, \\\n",
    "$f$ — унимодальная\n",
    "- если $f(x_1) < f(x_2)$, то минимум на отрезке $[a, x_2]$\n",
    "- если $f(x_1) > f(x_2)$, то минимум на отрезке $[x_1, b]$\n",
    "- если $f(x_1) == f(x_2)$, то минимум на отрезке $[x_1, x_2]$"
   ]
  },
  {
   "cell_type": "code",
   "execution_count": 3,
   "metadata": {},
   "outputs": [],
   "source": [
    "def get_value(fdict, f, x: float):\n",
    "    if (x not in fdict):\n",
    "        v = f(x)\n",
    "        fdict[x] = v\n",
    "    else:\n",
    "        v = fdict[x]\n",
    "    \n",
    "    return v, fdict"
   ]
  },
  {
   "cell_type": "code",
   "execution_count": 4,
   "metadata": {},
   "outputs": [],
   "source": [
    "def get_next_interval_base(fdict, f, a: float, b: float, x1: float, x2: float):\n",
    "    v1, fdict = get_value(fdict, f, x1)\n",
    "    v2, fdict = get_value(fdict, f, x2)\n",
    "    \n",
    "    if (v1 < v2):\n",
    "        return fdict, a, x2\n",
    "    elif (v1 > v2):\n",
    "        return fdict, x1, b\n",
    "    else:\n",
    "        return fdict, x1, x2"
   ]
  },
  {
   "cell_type": "markdown",
   "metadata": {},
   "source": [
    "#### Utils"
   ]
  },
  {
   "cell_type": "code",
   "execution_count": 5,
   "metadata": {},
   "outputs": [],
   "source": [
    "def print_iter(n_iter, a, b):\n",
    "    print(str(n_iter) + ': ' + '[' + str(a) + ', ' + str(b) + ']')"
   ]
  },
  {
   "cell_type": "code",
   "execution_count": 6,
   "metadata": {},
   "outputs": [],
   "source": [
    "def print_res(res, iters, func_iters):\n",
    "    print('Result:', res)\n",
    "    print('Total iterations: ', iters)\n",
    "    print('Total function computations: ', func_iters)"
   ]
  },
  {
   "cell_type": "markdown",
   "metadata": {},
   "source": [
    "### Метод дихотомии \n",
    "- дихотомия — деление отрезка на 2 части\n",
    "- сходимость метода всегда равна сходимости в наихудшем случае."
   ]
  },
  {
   "cell_type": "code",
   "execution_count": 7,
   "metadata": {},
   "outputs": [],
   "source": [
    "def bisection_search(f, a, b, eps):\n",
    "    fdict = {}\n",
    "    n_iter = 0\n",
    "    delta = eps/4\n",
    "    \n",
    "    print_iter(n_iter, a, b)\n",
    "    while (abs(a - b) > eps):\n",
    "        x1 = ((a + b) / 2) - delta\n",
    "        x2 = ((a + b) / 2) + delta\n",
    "        fdict, a, b = get_next_interval_base(fdict, f, a, b, x1, x2)\n",
    "        n_iter += 1\n",
    "        print_iter(n_iter, a, b)\n",
    "        \n",
    "    return (a+b)/2, n_iter, len(fdict)"
   ]
  },
  {
   "cell_type": "code",
   "execution_count": 8,
   "metadata": {},
   "outputs": [
    {
     "name": "stdout",
     "output_type": "stream",
     "text": [
      "0: [-5, 3]\n",
      "1: [-1.00025, 3]\n",
      "2: [-1.00025, 1.000125]\n",
      "3: [-0.0003125000000000764, 1.000125]\n",
      "4: [-0.0003125000000000764, 0.50015625]\n",
      "5: [-0.0003125000000000764, 0.25017187499999993]\n",
      "6: [-0.0003125000000000764, 0.12517968749999991]\n",
      "7: [-0.0003125000000000764, 0.06268359374999992]\n",
      "8: [-0.0003125000000000764, 0.03143554687499992]\n",
      "9: [-0.0003125000000000764, 0.015811523437499923]\n",
      "10: [-0.0003125000000000764, 0.007999511718749923]\n",
      "11: [-0.0003125000000000764, 0.0040935058593749235]\n",
      "12: [-0.0003125000000000764, 0.0021405029296874233]\n",
      "13: [-0.0003125000000000764, 0.0011640014648436735]\n",
      "14: [-0.0003125000000000764, 0.0006757507324217986]\n",
      "Result: 0.0001816253662108611\n",
      "Total iterations:  14\n",
      "Total function computations:  28\n"
     ]
    }
   ],
   "source": [
    "res, iters, func_iters = bisection_search(f, a, b, eps)\n",
    "\n",
    "print_res(res, iters, func_iters)"
   ]
  },
  {
   "cell_type": "markdown",
   "metadata": {},
   "source": [
    "### Метод золотого сечения\n",
    "- если был интервал $x_2 \\in (x_1, x_3)$, то мы хотим поместить новую точку $x_4$ внутри интервала симметрично относительно $x_2$\n",
    "- золотое сечение: $\\frac{b - a}{b - x_1} = \\frac{x_2 - a}{x_1 - a} =  \\frac{b - x_1}{b - x_2} = \\frac{b - x_1}{x_1 - a} = \\frac{1+\\sqrt5}{2}$\n",
    "- $\\frac{b - a}{x_1 - a} = \\frac{1+\\sqrt5}{2}$ \n",
    "- $\\frac{b - a}{b - x_2} = \\frac{1+\\sqrt5}{2}$ \n",
    "- если первернуть, будет: $\\frac{-1+\\sqrt5}{2}$\n",
    "- $x_1$ -  точка золотого сечения отрезка $[a, x_2]$\n",
    "- $x_2$ -  точка золотого сечения отрезка $[x_1, b]$\n",
    "- [метод золотого сечения](http://fourier.eng.hmc.edu/e176/lectures/ch3/node3.html)"
   ]
  },
  {
   "cell_type": "code",
   "execution_count": 9,
   "metadata": {},
   "outputs": [],
   "source": [
    "def golden_section_search(f, a, b, eps):\n",
    "    fdict = {}\n",
    "    n_iter = 0\n",
    "    gold = (1+sqrt(5))/2\n",
    "    \n",
    "    print_iter(n_iter, a, b)\n",
    "    delta = (b-a)/gold\n",
    "    x1 = b - delta\n",
    "    x2 = a + delta\n",
    "    \n",
    "    while (abs(a - b) > eps):\n",
    "        fdict, a, b = get_next_interval_base(fdict, f, a, b, x1, x2)\n",
    "        delta = (b-a)/gold\n",
    "        if (a == x1):\n",
    "            x1 = x2\n",
    "            x2 = a + delta\n",
    "        else:\n",
    "            x2 = x1\n",
    "            x1 = b - delta\n",
    "        n_iter += 1\n",
    "        print_iter(n_iter, a, b)\n",
    "\n",
    "    return (a+b)/2, n_iter, len(fdict)"
   ]
  },
  {
   "cell_type": "code",
   "execution_count": 10,
   "metadata": {},
   "outputs": [
    {
     "name": "stdout",
     "output_type": "stream",
     "text": [
      "0: [-5, 3]\n",
      "1: [-1.9442719099991583, 3]\n",
      "2: [-1.9442719099991583, 1.1114561800016824]\n",
      "3: [-0.7770876399966349, 1.1114561800016824]\n",
      "4: [-0.7770876399966349, 0.39009663000588857]\n",
      "5: [-0.3312629199899052, 0.39009663000588857]\n",
      "6: [-0.3312629199899052, 0.11456180001682442]\n",
      "7: [-0.16097302997223972, 0.11456180001682442]\n",
      "8: [-0.05572809000084167, 0.11456180001682442]\n",
      "9: [-0.05572809000084167, 0.0495168499705574]\n",
      "10: [-0.015528100075709608, 0.0495168499705574]\n",
      "11: [-0.015528100075709608, 0.024671889849422445]\n",
      "12: [-0.015528100075709608, 0.009316860045425729]\n",
      "13: [-0.006038169758571613, 0.009316860045425729]\n",
      "14: [-0.006038169758571613, 0.0034517605585663805]\n",
      "15: [-0.002413338928292968, 0.0034517605585663805]\n",
      "16: [-0.002413338928292968, 0.0012114919019856766]\n",
      "17: [-0.001028776754595027, 0.0012114919019856766]\n",
      "18: [-0.001028776754595027, 0.00035578541910291357]\n",
      "19: [-0.0004999210637798493, 0.00035578541910291357]\n",
      "Result: -7.206782233846787e-05\n",
      "Total iterations:  19\n",
      "Total function computations:  20\n"
     ]
    }
   ],
   "source": [
    "res, iters, func_iters = golden_section_search(f, a, b, eps)\n",
    "\n",
    "print_res(res, iters, func_iters)"
   ]
  },
  {
   "cell_type": "markdown",
   "metadata": {},
   "source": [
    "### Метод Фибоначчи"
   ]
  },
  {
   "cell_type": "markdown",
   "metadata": {},
   "source": [
    "- то же, что и в золотом сечение, только коэффициенты другие\n",
    "- [метод фибоначчи](https://neerc.ifmo.ru/wiki/index.php?title=%D0%9C%D0%B5%D1%82%D0%BE%D0%B4_%D0%A4%D0%B8%D0%B1%D0%BE%D0%BD%D0%B0%D1%87%D1%87%D0%B8)\n",
    "- $F_n = \\frac{1}{\\sqrt5}((\\frac{1+\\sqrt5}{2})^n - (\\frac{1-\\sqrt5}{2})^n), n = 1, 2, ..$\n",
    "- $\\frac{b-a}{\\epsilon} < F_{n+2}$\n",
    "- $n$ — кол-во вычислений фунции"
   ]
  },
  {
   "cell_type": "code",
   "execution_count": 11,
   "metadata": {},
   "outputs": [],
   "source": [
    "def fib(n):\n",
    "    return 1/sqrt(5) * (((1+sqrt(5))/2)**n - ((1-sqrt(5))/2)**n)"
   ]
  },
  {
   "cell_type": "code",
   "execution_count": 12,
   "metadata": {},
   "outputs": [],
   "source": [
    "def fib_search(f, a, b, eps):\n",
    "    fdict = {}\n",
    "    \n",
    "    n = 0\n",
    "    while (fib(n+2) <= (b-a)/eps):\n",
    "        n += 1\n",
    "    \n",
    "    print_iter(0, a, b)\n",
    "    x1 = a + fib(n)*(b-a)/fib(n+2)\n",
    "    x2 = a + fib(n+1)*(b-a)/fib(n+2)\n",
    "    k = 1\n",
    "    \n",
    "    while (abs(a - b) > eps and k <= n-2):\n",
    "        fdict, a, b = get_next_interval_base(fdict, f, a, b, x1, x2)\n",
    "        if (a == x1):\n",
    "            x1 = x2\n",
    "            x2 = a + fib(n-k+2)*(b-a)/fib(n-k+3)\n",
    "        else:\n",
    "            x2 = x1\n",
    "            x1 = a + fib(n-k+1)*(b-a)/fib(n-k+3)\n",
    "        print_iter(k, a, b)\n",
    "        k += 1\n",
    "\n",
    "    return (a+b)/2, k-1, len(fdict)"
   ]
  },
  {
   "cell_type": "code",
   "execution_count": 13,
   "metadata": {},
   "outputs": [
    {
     "name": "stdout",
     "output_type": "stream",
     "text": [
      "0: [-5, 3]\n",
      "1: [-1.9442718801388637, 3]\n",
      "2: [-1.9442718801388637, 1.1114561729526233]\n",
      "3: [-0.7770876540947538, 1.1114561729526233]\n",
      "4: [-0.7770876540947538, 0.3900965719493559]\n",
      "5: [-0.3312630290539117, 0.3900965719493559]\n",
      "6: [-0.3312630290539117, 0.1145615959869305]\n",
      "7: [-0.16097337997549477, 0.1145615959869305]\n",
      "8: [-0.05572811986113635, 0.1145615959869305]\n",
      "9: [-0.05572811986113635, 0.04951724828899513]\n",
      "10: [-0.015527099408940204, 0.04951724828899513]\n",
      "11: [-0.015527099408940204, 0.024673921043255935]\n",
      "12: [-0.015527099408940204, 0.009316269102922131]\n",
      "13: [-0.006041449613501858, 0.009316269102922131]\n",
      "14: [-0.006041449613501858, 0.003444200181936488]\n",
      "15: [-0.0024278687390491545, 0.003444200181936488]\n",
      "16: [-0.0024278687390491545, 0.0011857121354035497]\n",
      "17: [-0.0010727759111293905, 0.0011857121354035497]\n",
      "Result: 5.6468112137079626e-05\n",
      "Total iterations:  17\n",
      "Total function computations:  18\n"
     ]
    }
   ],
   "source": [
    "res, iters, func_iters = fib_search(f, a, b, eps)\n",
    "\n",
    "print_res(res, iters, func_iters)"
   ]
  }
 ],
 "metadata": {
  "kernelspec": {
   "display_name": "Python 3",
   "language": "python",
   "name": "python3"
  },
  "language_info": {
   "codemirror_mode": {
    "name": "ipython",
    "version": 3
   },
   "file_extension": ".py",
   "mimetype": "text/x-python",
   "name": "python",
   "nbconvert_exporter": "python",
   "pygments_lexer": "ipython3",
   "version": "3.8.3"
  }
 },
 "nbformat": 4,
 "nbformat_minor": 4
}
