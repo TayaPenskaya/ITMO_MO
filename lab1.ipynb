{
 "cells": [
  {
   "cell_type": "code",
   "execution_count": 1,
   "metadata": {},
   "outputs": [],
   "source": [
    "import numpy as np\n",
    "import matplotlib.pyplot as plt\n",
    "plt.style.use('seaborn-white')\n",
    "\n",
    "from math import sqrt\n",
    "from numpy import linalg as LA"
   ]
  },
  {
   "cell_type": "markdown",
   "metadata": {},
   "source": [
    "# Лабораторная работа №1"
   ]
  },
  {
   "cell_type": "markdown",
   "metadata": {},
   "source": [
    "## Utils"
   ]
  },
  {
   "cell_type": "markdown",
   "metadata": {},
   "source": [
    "### Полезные ссылки:\n",
    "- [описание лабы](http://mathdep.ifmo.ru/wp-content/uploads/2021/02/lab_1_optimization.pdf)\n",
    "\n",
    "####  Методы одномерного поиска\n",
    "- [теория 1 таски](http://mathdep.ifmo.ru/wp-content/uploads/2020/09/lec_1_optimization.pdf)\n",
    "- [+ 1 таске](http://machinelearning.ru/wiki/index.php?title=Метод_золотого_сечения._Симметричные_методы)\n",
    "\n",
    "#### Градиентный спуск\n",
    "- [градиентный спуск](http://fourier.eng.hmc.edu/e176/lectures/ch3/node7.html)\n",
    "- [еще один такой](http://www.machinelearning.ru/wiki/index.php?title=%D0%9C%D0%B5%D1%82%D0%BE%D0%B4_%D0%B3%D1%80%D0%B0%D0%B4%D0%B8%D0%B5%D0%BD%D1%82%D0%BD%D0%BE%D0%B3%D0%BE_%D1%81%D0%BF%D1%83%D1%81%D0%BA%D0%B0)\n",
    "- [и тут еще](http://www.apmath.spbu.ru/ru/staff/abbasov_m_e/files/MO1.pdf)\n",
    "- [линейный поиск](http://fourier.eng.hmc.edu/e176/lectures/ch3/node8.html)\n",
    "\n",
    "#### Градиентный спуск для квадратичных функций\n",
    "- [симметричные матрицы и квадратичные формы](http://math.ucdenver.edu/~esulliva/LinearAlgebra/SlideShows/07_02.pdf)"
   ]
  },
  {
   "cell_type": "markdown",
   "metadata": {},
   "source": [
    "### Test data"
   ]
  },
  {
   "cell_type": "code",
   "execution_count": 2,
   "metadata": {},
   "outputs": [],
   "source": [
    "funcs = [ \n",
    "    lambda x: x**2,\n",
    "    lambda x: 3*x + 2*x**2, \n",
    "    lambda x: 1 + 5*x + 3*x**3\n",
    "]\n",
    "\n",
    "dfs = [\n",
    "    lambda x: 2*x,\n",
    "    lambda x: 3 + 4*x, \n",
    "    lambda x: 5 + 9*x**2\n",
    "]\n",
    "\n",
    "a = -10\n",
    "b = 5\n",
    "aa = [-50, -20, -5]\n",
    "bb = [20, 10, 5]\n",
    "eps = [1e-3, 1e-4, 1e-6]\n",
    "\n",
    "matrices = [\n",
    "    np.array([[3,-1],[-1,5]]),\n",
    "    np.array([[4,0],[0,3]]),\n",
    "    np.array([[5,2],[2,3]])\n",
    "]\n",
    "\n",
    "xs_start = [\n",
    "    np.array([1., 2.]),\n",
    "    np.array([3., 2.])\n",
    "]\n",
    "\n",
    "colors = ['red', 'green', 'blue']"
   ]
  },
  {
   "cell_type": "markdown",
   "metadata": {},
   "source": [
    "### Minor utils functions"
   ]
  },
  {
   "cell_type": "code",
   "execution_count": 3,
   "metadata": {},
   "outputs": [],
   "source": [
    "def get_function_from_symmetric_matrix(Q):\n",
    "    # [[4, 1], [1, 3]]  == 4x1^2 + 2x1x2 + 3x2^2\n",
    "    \n",
    "    return lambda x, y: (x**2)*Q[0][0] + 2*x*y*Q[0][1] + (y**2)*Q[1][1]"
   ]
  },
  {
   "cell_type": "markdown",
   "metadata": {},
   "source": [
    "### For visualization"
   ]
  },
  {
   "cell_type": "code",
   "execution_count": 4,
   "metadata": {},
   "outputs": [],
   "source": [
    "def print_iter(n_iter, a, b):\n",
    "    print(str(n_iter) + ': ' + '[' + str(a) + ', ' + str(b) + ']')"
   ]
  },
  {
   "cell_type": "code",
   "execution_count": 5,
   "metadata": {},
   "outputs": [],
   "source": [
    "def print_res(res, iters, func_iters):\n",
    "    print('Result:', res)\n",
    "    print('Total iterations: ', iters)\n",
    "    print('Total function computations: ', func_iters)"
   ]
  },
  {
   "cell_type": "code",
   "execution_count": 6,
   "metadata": {},
   "outputs": [],
   "source": [
    "def print_grad_res(res, step, grad_xs, c):\n",
    "    print('Result:', res)\n",
    "    print('Total gradient descent iterations: ', step)\n",
    "    print('Gradient descent steps: ', grad_xs)\n",
    "    print('Condition number: ', c)"
   ]
  },
  {
   "cell_type": "code",
   "execution_count": 7,
   "metadata": {},
   "outputs": [],
   "source": [
    "def draw_countors_plot_with_gradient_steps(Q, grad_coords):\n",
    "    x_min = -5\n",
    "    y_min = -5\n",
    "    x_max = 5\n",
    "    y_max = 5\n",
    "    delta = 20\n",
    "    \n",
    "    \n",
    "    x = np.linspace(x_min, x_max, delta)\n",
    "    y = np.linspace(y_min, y_max, delta)\n",
    "\n",
    "    X, Y = np.meshgrid(x, y)\n",
    "    z = get_function_from_symmetric_matrix(Q) \n",
    "    Z = z(X, Y)\n",
    "\n",
    "    contours = plt.contour(X, Y, Z, 3, colors='black')\n",
    "    plt.clabel(contours, inline=True, fontsize=12)\n",
    "    plt.imshow(Z, extent=[x_min, x_max, y_min, y_max], origin='lower',\n",
    "               cmap='RdGy')\n",
    "    plt.colorbar();\n",
    "\n",
    "    gx, gy = zip(*grad_coords)\n",
    "    plt.plot(gx, gy, color='black', marker='o')\n",
    "    plt.show()"
   ]
  },
  {
   "cell_type": "markdown",
   "metadata": {},
   "source": [
    "## Методы одномерного поиска"
   ]
  },
  {
   "cell_type": "markdown",
   "metadata": {},
   "source": [
    "$a < x_1 < x_2 < b$, \\\n",
    "$f$ — унимодальная\n",
    "- если $f(x_1) < f(x_2)$, то минимум на отрезке $[a, x_2]$\n",
    "- если $f(x_1) > f(x_2)$, то минимум на отрезке $[x_1, b]$\n",
    "- если $f(x_1) == f(x_2)$, то минимум на отрезке $[x_1, x_2]$"
   ]
  },
  {
   "cell_type": "code",
   "execution_count": 8,
   "metadata": {},
   "outputs": [],
   "source": [
    "def get_value(fdict, f, x: float):\n",
    "    if (x not in fdict):\n",
    "        v = f(x)\n",
    "        fdict[x] = v\n",
    "    else:\n",
    "        v = fdict[x]\n",
    "    \n",
    "    return v, fdict"
   ]
  },
  {
   "cell_type": "code",
   "execution_count": 9,
   "metadata": {},
   "outputs": [],
   "source": [
    "def get_next_interval_base(fdict, f, a: float, b: float, x1: float, x2: float):\n",
    "    v1, fdict = get_value(fdict, f, x1)\n",
    "    v2, fdict = get_value(fdict, f, x2)\n",
    "    \n",
    "    if (v1 < v2):\n",
    "        return fdict, a, x2\n",
    "    elif (v1 > v2):\n",
    "        return fdict, x1, b\n",
    "    else:\n",
    "        return fdict, x1, x2"
   ]
  },
  {
   "cell_type": "markdown",
   "metadata": {},
   "source": [
    "### Метод дихотомии \n",
    "- дихотомия — деление отрезка на 2 части\n",
    "- сходимость метода всегда равна сходимости в наихудшем случае."
   ]
  },
  {
   "cell_type": "code",
   "execution_count": 10,
   "metadata": {},
   "outputs": [],
   "source": [
    "def bisection_search(f, a, b, verbose=False, eps=1e-3):\n",
    "    fdict = {}\n",
    "    step = 0\n",
    "    delta = eps/4\n",
    "    \n",
    "    if (verbose):\n",
    "        print_iter(step, a, b)\n",
    "        \n",
    "    while (abs(a - b) > eps):\n",
    "        x1 = ((a + b) / 2) - delta\n",
    "        x2 = ((a + b) / 2) + delta\n",
    "        fdict, a, b = get_next_interval_base(fdict, f, a, b, x1, x2)\n",
    "        step += 1\n",
    "        if (verbose):\n",
    "            print_iter(step, a, b)\n",
    "       \n",
    "    return (a+b)/2, step, len(fdict)"
   ]
  },
  {
   "cell_type": "code",
   "execution_count": 11,
   "metadata": {},
   "outputs": [
    {
     "name": "stdout",
     "output_type": "stream",
     "text": [
      "Result: -7.041931152195852e-06\n",
      "Total iterations:  15\n",
      "Total function computations:  30\n"
     ]
    }
   ],
   "source": [
    "res, iters, func_iters = bisection_search(funcs[0], a, b)\n",
    "\n",
    "print_res(res, iters, func_iters)"
   ]
  },
  {
   "cell_type": "markdown",
   "metadata": {},
   "source": [
    "### Метод золотого сечения\n",
    "- если был интервал $x_2 \\in (x_1, x_3)$, то мы хотим поместить новую точку $x_4$ внутри интервала симметрично относительно $x_2$\n",
    "- золотое сечение: $\\frac{b - a}{b - x_1} = \\frac{x_2 - a}{x_1 - a} =  \\frac{b - x_1}{b - x_2} = \\frac{b - x_1}{x_1 - a} = \\frac{1+\\sqrt5}{2}$\n",
    "- $\\frac{b - a}{x_1 - a} = \\frac{1+\\sqrt5}{2}$ \n",
    "- $\\frac{b - a}{b - x_2} = \\frac{1+\\sqrt5}{2}$ \n",
    "- если первернуть, будет: $\\frac{-1+\\sqrt5}{2}$\n",
    "- $x_1$ -  точка золотого сечения отрезка $[a, x_2]$\n",
    "- $x_2$ -  точка золотого сечения отрезка $[x_1, b]$\n",
    "- [метод золотого сечения](http://fourier.eng.hmc.edu/e176/lectures/ch3/node3.html)"
   ]
  },
  {
   "cell_type": "code",
   "execution_count": 12,
   "metadata": {},
   "outputs": [],
   "source": [
    "def golden_section_search(f, a, b, verbose=False, eps=1e-3):\n",
    "    fdict = {}\n",
    "    step = 0\n",
    "    gold = (1+sqrt(5))/2\n",
    "    \n",
    "    if (verbose):\n",
    "        print_iter(step, a, b)\n",
    "    delta = (b-a)/gold\n",
    "    x1 = b - delta\n",
    "    x2 = a + delta\n",
    "    \n",
    "    while (abs(a - b) > eps):\n",
    "        fdict, a, b = get_next_interval_base(fdict, f, a, b, x1, x2)\n",
    "        delta = (b-a)/gold\n",
    "        if (a == x1):\n",
    "            x1 = x2\n",
    "            x2 = a + delta\n",
    "        else:\n",
    "            x2 = x1\n",
    "            x1 = b - delta\n",
    "        step += 1\n",
    "        if (verbose):\n",
    "            print_iter(step, a, b)\n",
    "\n",
    "    return (a+b)/2, step, len(fdict)"
   ]
  },
  {
   "cell_type": "code",
   "execution_count": 13,
   "metadata": {},
   "outputs": [
    {
     "name": "stdout",
     "output_type": "stream",
     "text": [
      "Result: 0.00016526740337958101\n",
      "Total iterations:  20\n",
      "Total function computations:  21\n"
     ]
    }
   ],
   "source": [
    "res, iters, func_iters = golden_section_search(funcs[0], a, b)\n",
    "\n",
    "print_res(res, iters, func_iters)"
   ]
  },
  {
   "cell_type": "markdown",
   "metadata": {},
   "source": [
    "### Метод Фибоначчи"
   ]
  },
  {
   "cell_type": "markdown",
   "metadata": {},
   "source": [
    "- то же, что и в золотом сечение, только коэффициенты другие\n",
    "- [метод фибоначчи](https://neerc.ifmo.ru/wiki/index.php?title=%D0%9C%D0%B5%D1%82%D0%BE%D0%B4_%D0%A4%D0%B8%D0%B1%D0%BE%D0%BD%D0%B0%D1%87%D1%87%D0%B8)\n",
    "- $F_n = \\frac{1}{\\sqrt5}((\\frac{1+\\sqrt5}{2})^n - (\\frac{1-\\sqrt5}{2})^n), n = 1, 2, ..$\n",
    "- $\\frac{b-a}{\\epsilon} < F_{n+2}$\n",
    "- $n$ — кол-во вычислений фунции"
   ]
  },
  {
   "cell_type": "code",
   "execution_count": 14,
   "metadata": {},
   "outputs": [],
   "source": [
    "def fib(n):\n",
    "    return 1/sqrt(5) * (((1+sqrt(5))/2)**n - ((1-sqrt(5))/2)**n)"
   ]
  },
  {
   "cell_type": "code",
   "execution_count": 15,
   "metadata": {},
   "outputs": [],
   "source": [
    "def fib_search(f, a, b, verbose=False, eps=1e-3):\n",
    "    fdict = {}\n",
    "    \n",
    "    n = 0\n",
    "    while (fib(n+2) <= (b-a)/eps):\n",
    "        n += 1\n",
    "    \n",
    "    if (verbose):\n",
    "        print_iter(0, a, b)\n",
    "    x1 = a + fib(n)*(b-a)/fib(n+2)\n",
    "    x2 = a + fib(n+1)*(b-a)/fib(n+2)\n",
    "    step = 1\n",
    "    \n",
    "    while (abs(a - b) > eps and step <= n-2):\n",
    "        fdict, a, b = get_next_interval_base(fdict, f, a, b, x1, x2)\n",
    "        if (a == x1):\n",
    "            x1 = x2\n",
    "            x2 = a + fib(n-step+2)*(b-a)/fib(n-step+3)\n",
    "        else:\n",
    "            x2 = x1\n",
    "            x1 = a + fib(n-step+1)*(b-a)/fib(n-step+3)\n",
    "        if (verbose):\n",
    "            print_iter(step, a, b)\n",
    "        step += 1\n",
    "        \n",
    "    print()\n",
    "    return (a+b)/2, step-1, len(fdict)"
   ]
  },
  {
   "cell_type": "code",
   "execution_count": 16,
   "metadata": {},
   "outputs": [
    {
     "name": "stdout",
     "output_type": "stream",
     "text": [
      "\n",
      "Result: -9.998691419206247\n",
      "Total iterations:  18\n",
      "Total function computations:  19\n"
     ]
    }
   ],
   "source": [
    "res, iters, func_iters = fib_search(funcs[2], a, b)\n",
    "\n",
    "print_res(res, iters, func_iters)"
   ]
  },
  {
   "cell_type": "markdown",
   "metadata": {},
   "source": [
    "### Statistics"
   ]
  },
  {
   "cell_type": "code",
   "execution_count": 17,
   "metadata": {},
   "outputs": [],
   "source": [
    "methods = {'bisection_search': bisection_search, \n",
    "           'golden_section_search': golden_section_search, \n",
    "           'fib_search': fib_search}"
   ]
  },
  {
   "cell_type": "code",
   "execution_count": 18,
   "metadata": {},
   "outputs": [
    {
     "name": "stdout",
     "output_type": "stream",
     "text": [
      "\n",
      "\n",
      "\n"
     ]
    },
    {
     "data": {
      "image/png": "[encoded data removed]",
      "text/plain": [
       "<Figure size 1080x360 with 2 Axes>"
      ]
     },
     "metadata": {},
     "output_type": "display_data"
    }
   ],
   "source": [
    "all_iters = {}\n",
    "all_func_comps = {}\n",
    "\n",
    "f = funcs[2]\n",
    "for name, m in methods.items():\n",
    "    all_iters[name] = []\n",
    "    all_func_comps[name] = []\n",
    "    for e in eps:\n",
    "        res, iters, func_comps = m(f, aa[0], bb[0], False, e)\n",
    "        all_iters[name].append(iters)\n",
    "        all_func_comps[name].append(func_comps)\n",
    "\n",
    "fig, (ax1, ax2) = plt.subplots(1, 2)\n",
    "fig.suptitle('Statistics')\n",
    "fig.set_figheight(5)\n",
    "fig.set_figwidth(15)\n",
    "\n",
    "i = 0\n",
    "for name in methods.keys():\n",
    "    ax1.plot(all_iters[name], all_func_comps[name], color = colors[i])\n",
    "    i += 1\n",
    "ax1.legend(methods.keys())\n",
    "ax1.set_title('Dependency between function computations and number of iterations')\n",
    "ax1.set_xlabel('Total iterations')\n",
    "ax1.set_ylabel('Total function computations')\n",
    "ax1.grid(True)\n",
    "# ax1.show()\n",
    "\n",
    "i = 0\n",
    "for name in methods.keys():\n",
    "    ax2.plot(eps, all_iters[name], color = colors[i])\n",
    "    i += 1\n",
    "ax2.legend(methods.keys())\n",
    "ax2.set_title('Dependency between number of iterations and approximation accuracy')\n",
    "ax2.set_xlabel('Eps')\n",
    "ax2.set_ylabel('Total iterations')\n",
    "ax2.grid(True)\n",
    "plt.show()"
   ]
  },
  {
   "cell_type": "markdown",
   "metadata": {},
   "source": [
    "## Метод градиентного спуска"
   ]
  },
  {
   "cell_type": "markdown",
   "metadata": {},
   "source": [
    "- если гладкая функция $f(x)$ ограничена снизу, ее градиент $f'(x)$ удовлетворяет условию Липшица, то тогда при выбранных с помощью МНСК $\\lambda_k$: $||f'(x^k)|| \\to 0$ при $k \\to inf$"
   ]
  },
  {
   "cell_type": "markdown",
   "metadata": {},
   "source": [
    "### Градиентный спуск для одномерных функций"
   ]
  },
  {
   "cell_type": "code",
   "execution_count": 19,
   "metadata": {},
   "outputs": [],
   "source": [
    "def gradient_descent(f, df, optimizer, x, eps):\n",
    "    step = 0\n",
    "    fcomps = 0\n",
    "    niters = 0\n",
    "    while (abs(df(x)) > eps):\n",
    "        phi = lambda lr: f(x - lr*df(x))\n",
    "        optimal_lr, iters, fcomp = optimizer(phi, 0, 1, True, eps)\n",
    "        x -= optimal_lr * df(x)\n",
    "        step += 1\n",
    "        fcomps += fcomp\n",
    "        niters += iters\n",
    "        \n",
    "    return x, niters, fcomps, step"
   ]
  },
  {
   "cell_type": "code",
   "execution_count": 20,
   "metadata": {},
   "outputs": [
    {
     "name": "stdout",
     "output_type": "stream",
     "text": [
      "0: [0, 1]\n",
      "1: [0.3819444444444444, 1]\n",
      "2: [0.3819444444444444, 0.7639371141975309]\n",
      "3: [0.3819444444444444, 0.6180555555555555]\n",
      "4: [0.4720959595959595, 0.6180555555555555]\n",
      "5: [0.4720959595959595, 0.5622474747474746]\n",
      "6: [0.4720959595959595, 0.5278742283950617]\n",
      "7: [0.4935491399033065, 0.5278742283950617]\n",
      "8: [0.4935491399033065, 0.5150023202106535]\n",
      "\n",
      "0: [0, 1]\n",
      "1: [0.3819444444444444, 1]\n",
      "2: [0.3819444444444444, 0.7639371141975309]\n",
      "3: [0.3819444444444444, 0.6180555555555555]\n",
      "4: [0.4720959595959595, 0.6180555555555555]\n",
      "5: [0.4720959595959595, 0.5622474747474746]\n",
      "6: [0.4720959595959595, 0.5278742283950617]\n",
      "7: [0.4935491399033065, 0.5278742283950617]\n",
      "8: [0.4935491399033065, 0.5150023202106535]\n",
      "\n",
      "Result: 0.0007312747008064863\n",
      "Total iterations:  16\n",
      "Total function computations:  18\n",
      "Gradient descent steps: 2\n"
     ]
    }
   ],
   "source": [
    "res, iters, func_comps, grad_steps = gradient_descent(funcs[0], dfs[0], fib_search, 10, 0.01)\n",
    "\n",
    "print_res(res, iters, func_comps)\n",
    "print('Gradient descent steps:', grad_steps)"
   ]
  },
  {
   "cell_type": "markdown",
   "metadata": {},
   "source": [
    "### Градиентный спуск для квадратичной функции "
   ]
  },
  {
   "cell_type": "markdown",
   "metadata": {},
   "source": [
    "- $F(z) = \\frac{1}{2}(Qz, z) + (c, z)$\n",
    "- Q -- симметричная матрица порядка $n$\n",
    "- c -- заданный вектор\n",
    "- $grad f(x) = Qx$"
   ]
  },
  {
   "cell_type": "code",
   "execution_count": 21,
   "metadata": {},
   "outputs": [],
   "source": [
    "def get_eigenvalues(Q: np.ndarray):\n",
    "    return LA.eigvals(Q)"
   ]
  },
  {
   "cell_type": "code",
   "execution_count": 22,
   "metadata": {},
   "outputs": [],
   "source": [
    "def get_condition_num(Q):\n",
    "    eigs = get_eigenvalues(Q)\n",
    "    min_eig = min(eigs)\n",
    "    max_eig = max(eigs)\n",
    "    c = max_eig/min_eig\n",
    "    return c"
   ]
  },
  {
   "cell_type": "markdown",
   "metadata": {},
   "source": [
    "#### С оптимальным learning rate"
   ]
  },
  {
   "cell_type": "code",
   "execution_count": 23,
   "metadata": {},
   "outputs": [],
   "source": [
    "def quadratic_gradient_descent_optimal(Q: np.ndarray, x, eps):\n",
    "    step = 0\n",
    "    xs = [list(x)]\n",
    "    c = get_condition_num(Q)\n",
    "    \n",
    "    while (np.linalg.norm(Q * x) > eps):\n",
    "        optimal_lr = (c - 1)/(c + 1)\n",
    "        diff = np.linalg.norm(np.eye(len(Q)) - optimal_lr*Q)*x\n",
    "        x -= diff\n",
    "        xs.append(list(x))\n",
    "        step += 1\n",
    "        \n",
    "    return x, step, xs, c"
   ]
  },
  {
   "cell_type": "code",
   "execution_count": 24,
   "metadata": {
    "scrolled": true
   },
   "outputs": [
    {
     "name": "stdout",
     "output_type": "stream",
     "text": [
      "Result: [0.00164024 0.00273374]\n",
      "Total gradient descent iterations:  3\n",
      "Gradient descent steps:  [[3.0, 5.0], [0.24531095138333736, 0.408851585638895], [0.02005915428953267, 0.033431923815887776], [0.001640243407570137, 0.0027337390126168926]]\n",
      "Condition number:  2.0938363213560542\n"
     ]
    }
   ],
   "source": [
    "res, steps, grad_coords, cond = quadratic_gradient_descent_optimal(matrices[0], np.array([3., 5.]), 0.1)\n",
    "\n",
    "print_grad_res(res, steps, grad_coords, cond)"
   ]
  },
  {
   "cell_type": "code",
   "execution_count": 25,
   "metadata": {},
   "outputs": [
    {
     "data": {
      "image/png": "[encoded data removed]",
      "text/plain": [
       "<Figure size 432x288 with 2 Axes>"
      ]
     },
     "metadata": {},
     "output_type": "display_data"
    }
   ],
   "source": [
    "draw_countors_plot_with_gradient_steps(matrices[0], grad_coords)"
   ]
  },
  {
   "cell_type": "markdown",
   "metadata": {},
   "source": [
    "#### С константным lr"
   ]
  },
  {
   "cell_type": "code",
   "execution_count": 32,
   "metadata": {},
   "outputs": [],
   "source": [
    "def quadratic_gradient_descent_constant(Q: np.ndarray, x, lr, eps):\n",
    "    step = 0\n",
    "    xs = [list(x)]\n",
    "    c = get_condition_num(Q)\n",
    "    \n",
    "    while (np.linalg.norm(Q * x) > eps):\n",
    "        diff = np.linalg.norm(np.eye(len(Q)) - lr*Q)*x\n",
    "        x -= diff\n",
    "        xs.append(list(x))\n",
    "        step += 1\n",
    "        \n",
    "    return x, step, xs, c"
   ]
  },
  {
   "cell_type": "code",
   "execution_count": 33,
   "metadata": {},
   "outputs": [
    {
     "name": "stdout",
     "output_type": "stream",
     "text": [
      "Result: [0.00436905 0.00728175]\n",
      "Total gradient descent iterations:  6\n",
      "Gradient descent steps:  [[3.0, 5.0], [1.0100251257867603, 1.6833752096446002], [0.3400502515735203, 0.5667504192892003], [0.11448643270645475, 0.19081072117742454], [0.03854472453173814, 0.06424120755289689], [0.012977046747861612, 0.021628411246436018], [0.0043690477579498635, 0.007281746263249773]]\n",
      "Condition number:  2.0938363213560542\n"
     ]
    }
   ],
   "source": [
    "res, steps, grad_coords, cond = quadratic_gradient_descent_constant(matrices[0], np.array([3.,5.]), 0.3, 0.1)\n",
    "\n",
    "print_grad_res(res, steps, grad_coords, cond)"
   ]
  },
  {
   "cell_type": "code",
   "execution_count": 34,
   "metadata": {},
   "outputs": [
    {
     "data": {
      "image/png": "[encoded data removed]",
      "text/plain": [
       "<Figure size 432x288 with 2 Axes>"
      ]
     },
     "metadata": {},
     "output_type": "display_data"
    }
   ],
   "source": [
    "draw_countors_plot_with_gradient_steps(matrices[0], grad_coords)"
   ]
  },
  {
   "cell_type": "markdown",
   "metadata": {},
   "source": [
    "#### С вычислением оптимального на каждом шаге"
   ]
  },
  {
   "cell_type": "code",
   "execution_count": 29,
   "metadata": {},
   "outputs": [],
   "source": [
    "def quadratic_gradient_descent_with_optimizer(Q: np.ndarray, x, optimizer, eps):\n",
    "    step = 0\n",
    "    \n",
    "    eigs = get_eigenvalues(Q)\n",
    "    min_eig = min(eigs)\n",
    "    max_eig = max(eigs)\n",
    "    c = max_eig/min_eig\n",
    "    \n",
    "    grad_xs = []\n",
    "    grad_xs.append(list(x))\n",
    "    while (np.linalg.norm(Q @ x) > eps):\n",
    "        phi = lambda lr: np.linalg.norm(np.eye(len(Q)) - lr*Q)\n",
    "#         optimal_lr, iters, fcomp = optimizer(phi, 0, 2/max_eig, True, eps)\n",
    "        optimal_lr, iters, fcomp = optimizer(phi, 0.1, 5, True, eps)\n",
    "        x -= phi(optimal_lr)*x\n",
    "        step += 1\n",
    "        grad_xs.append(list(x))\n",
    "        \n",
    "    return x, step, grad_xs, c"
   ]
  },
  {
   "cell_type": "code",
   "execution_count": 30,
   "metadata": {},
   "outputs": [
    {
     "name": "stdout",
     "output_type": "stream",
     "text": [
      "0: [0.1, 5]\n",
      "1: [0.1, 3.1290909090909094]\n",
      "2: [0.1, 1.970909090909091]\n",
      "3: [0.1, 1.2565619834710744]\n",
      "4: [0.1, 0.8153475935828876]\n",
      "5: [0.1, 0.5405950413223141]\n",
      "6: [0.1, 0.3751336898395722]\n",
      "\n",
      "0: [0.1, 5]\n",
      "1: [0.1, 3.1290909090909094]\n",
      "2: [0.1, 1.970909090909091]\n",
      "3: [0.1, 1.2565619834710744]\n",
      "4: [0.1, 0.8153475935828876]\n",
      "5: [0.1, 0.5405950413223141]\n",
      "6: [0.1, 0.3751336898395722]\n",
      "\n",
      "0: [0.1, 5]\n",
      "1: [0.1, 3.1290909090909094]\n",
      "2: [0.1, 1.970909090909091]\n",
      "3: [0.1, 1.2565619834710744]\n",
      "4: [0.1, 0.8153475935828876]\n",
      "5: [0.1, 0.5405950413223141]\n",
      "6: [0.1, 0.3751336898395722]\n",
      "\n",
      "0: [0.1, 5]\n",
      "1: [0.1, 3.1290909090909094]\n",
      "2: [0.1, 1.970909090909091]\n",
      "3: [0.1, 1.2565619834710744]\n",
      "4: [0.1, 0.8153475935828876]\n",
      "5: [0.1, 0.5405950413223141]\n",
      "6: [0.1, 0.3751336898395722]\n",
      "\n",
      "0: [0.1, 5]\n",
      "1: [0.1, 3.1290909090909094]\n",
      "2: [0.1, 1.970909090909091]\n",
      "3: [0.1, 1.2565619834710744]\n",
      "4: [0.1, 0.8153475935828876]\n",
      "5: [0.1, 0.5405950413223141]\n",
      "6: [0.1, 0.3751336898395722]\n",
      "\n",
      "0: [0.1, 5]\n",
      "1: [0.1, 3.1290909090909094]\n",
      "2: [0.1, 1.970909090909091]\n",
      "3: [0.1, 1.2565619834710744]\n",
      "4: [0.1, 0.8153475935828876]\n",
      "5: [0.1, 0.5405950413223141]\n",
      "6: [0.1, 0.3751336898395722]\n",
      "\n",
      "0: [0.1, 5]\n",
      "1: [0.1, 3.1290909090909094]\n",
      "2: [0.1, 1.970909090909091]\n",
      "3: [0.1, 1.2565619834710744]\n",
      "4: [0.1, 0.8153475935828876]\n",
      "5: [0.1, 0.5405950413223141]\n",
      "6: [0.1, 0.3751336898395722]\n",
      "\n",
      "0: [0.1, 5]\n",
      "1: [0.1, 3.1290909090909094]\n",
      "2: [0.1, 1.970909090909091]\n",
      "3: [0.1, 1.2565619834710744]\n",
      "4: [0.1, 0.8153475935828876]\n",
      "5: [0.1, 0.5405950413223141]\n",
      "6: [0.1, 0.3751336898395722]\n",
      "\n",
      "0: [0.1, 5]\n",
      "1: [0.1, 3.1290909090909094]\n",
      "2: [0.1, 1.970909090909091]\n",
      "3: [0.1, 1.2565619834710744]\n",
      "4: [0.1, 0.8153475935828876]\n",
      "5: [0.1, 0.5405950413223141]\n",
      "6: [0.1, 0.3751336898395722]\n",
      "\n",
      "Result: [0.01382488 0.01382488]\n",
      "Total gradient descent iterations:  9\n",
      "Gradient descent steps:  [[5.0, 5.0], [2.5984448253864563, 2.5984448253864563], [1.3503831021155304, 1.3503831021155304], [0.7017791967962821, 0.7017791967962821], [0.3647069044958326, 0.3647069044958326], [0.18953415375398175, 0.18953415375398175], [0.09849880821120698, 0.09849880821120698], [0.05118874370062875, 0.05118874370062875], [0.02660222523738647, 0.02660222523738647], [0.013824882902370373, 0.013824882902370373]]\n",
      "Condition number:  2.0938363213560542\n"
     ]
    }
   ],
   "source": [
    "res, steps, grad_coords, cond = quadratic_gradient_descent_with_optimizer(matrices[0], np.array([5., 5.]), fib_search, 0.1)\n",
    "\n",
    "print_grad_res(res, steps, grad_coords, cond)"
   ]
  },
  {
   "cell_type": "code",
   "execution_count": 31,
   "metadata": {},
   "outputs": [
    {
     "data": {
      "image/png": "[encoded data removed]",
      "text/plain": [
       "<Figure size 432x288 with 2 Axes>"
      ]
     },
     "metadata": {},
     "output_type": "display_data"
    }
   ],
   "source": [
    "draw_countors_plot_with_gradient_steps(matrices[0], grad_coords)"
   ]
  }
 ],
 "metadata": {
  "kernelspec": {
   "display_name": "Python 3",
   "language": "python",
   "name": "python3"
  },
  "language_info": {
   "codemirror_mode": {
    "name": "ipython",
    "version": 3
   },
   "file_extension": ".py",
   "mimetype": "text/x-python",
   "name": "python",
   "nbconvert_exporter": "python",
   "pygments_lexer": "ipython3",
   "version": "3.8.3"
  },
  "toc": {
   "base_numbering": 1,
   "nav_menu": {},
   "number_sections": true,
   "sideBar": true,
   "skip_h1_title": false,
   "title_cell": "Table of Contents",
   "title_sidebar": "Contents",
   "toc_cell": false,
   "toc_position": {},
   "toc_section_display": true,
   "toc_window_display": true
  }
 },
 "nbformat": 4,
 "nbformat_minor": 4
}
