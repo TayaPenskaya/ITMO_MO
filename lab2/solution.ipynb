{
 "cells": [
  {
   "cell_type": "code",
   "execution_count": 1,
   "metadata": {},
   "outputs": [],
   "source": [
    "import numpy as np\n",
    "import inspect\n",
    "import matplotlib.pyplot as plt\n",
    "plt.style.use('seaborn-white')\n",
    "\n",
    "from math import exp, sqrt\n",
    "from sympy import *"
   ]
  },
  {
   "cell_type": "markdown",
   "metadata": {},
   "source": [
    "# Лабораторная №2"
   ]
  },
  {
   "cell_type": "markdown",
   "metadata": {},
   "source": [
    "## Utils"
   ]
  },
  {
   "cell_type": "markdown",
   "metadata": {},
   "source": [
    "### Полезные ссылки\n",
    "\n",
    "- [метод ньютона](http://fourier.eng.hmc.edu/e176/lectures/ch3/node6.html)"
   ]
  },
  {
   "cell_type": "markdown",
   "metadata": {},
   "source": [
    "### Finding derivative"
   ]
  },
  {
   "cell_type": "code",
   "execution_count": 17,
   "metadata": {},
   "outputs": [],
   "source": [
    "def get_dfs(func):\n",
    "    arg_symbols = symbols(inspect.getargspec(func).args)\n",
    "    sym_func = func(*arg_symbols)\n",
    "\n",
    "    return [lambdify(arg_symbols, sym_func.diff(a)) for a in arg_symbols]"
   ]
  },
  {
   "cell_type": "code",
   "execution_count": 18,
   "metadata": {},
   "outputs": [],
   "source": [
    "def calc_df(func, params):\n",
    "    dfs = get_dfs(func)\n",
    "    res = []\n",
    "    for df in dfs:\n",
    "        res.append(df(*params))\n",
    "    return res"
   ]
  },
  {
   "cell_type": "code",
   "execution_count": 26,
   "metadata": {},
   "outputs": [],
   "source": [
    "def calc_inv_hessian(func, params):\n",
    "    dfs = get_dfs(func)\n",
    "    n = len(dfs)\n",
    "    \n",
    "    h = [[0 for x in range(n)] for y in range(n)] \n",
    "    for i in range(len(dfs)):\n",
    "        h[i] = get_dfs(dfs[i])\n",
    "        \n",
    "    inv_h = np.linalg.inv(h)\n",
    "    \n",
    "    for i in range(n):\n",
    "        for j in range(n):\n",
    "            inv_h[i][j] = inv_h[i][j](*params)\n",
    "    \n",
    "    return inv_h "
   ]
  },
  {
   "cell_type": "markdown",
   "metadata": {},
   "source": [
    "### Visualization methods"
   ]
  },
  {
   "cell_type": "code",
   "execution_count": 2,
   "metadata": {},
   "outputs": [],
   "source": [
    "def print_res(res, step, xs):\n",
    "    print('Result:', res)\n",
    "    print('Total iterations: ', step)\n",
    "    print('Steps: ', xs)"
   ]
  },
  {
   "cell_type": "code",
   "execution_count": 3,
   "metadata": {},
   "outputs": [],
   "source": [
    "def draw_countors_plot_with_steps(coords, f, classic = True):\n",
    "    x_min = -5\n",
    "    y_min = -5\n",
    "    x_max = 5\n",
    "    y_max = 5\n",
    "    delta = 20\n",
    "    \n",
    "    \n",
    "    x = np.linspace(x_min, x_max, delta)\n",
    "    y = np.linspace(y_min, y_max, delta)\n",
    "    X, Y = np.meshgrid(x, y)\n",
    "    \n",
    "    if (classic):\n",
    "        z = f\n",
    "    else:\n",
    "        z = get_function_from_symmetric_matrix(f) \n",
    "        \n",
    "    Z = z(X, Y)\n",
    "\n",
    "    contours = plt.contour(X, Y, Z, 3, colors='black')\n",
    "    plt.clabel(contours, inline=True, fontsize=12)\n",
    "    plt.imshow(Z, extent=[x_min, x_max, y_min, y_max], origin='lower',\n",
    "               cmap='RdGy', alpha=0.5)\n",
    "    plt.colorbar();\n",
    "\n",
    "    cx, cy = zip(*coords)\n",
    "    plt.plot(cx, cy, color='black', marker='o')\n",
    "    #plt.savefig('images/gradient_steps.png')\n",
    "    plt.show()"
   ]
  },
  {
   "cell_type": "markdown",
   "metadata": {},
   "source": [
    "## Метод сопряженных направлений"
   ]
  },
  {
   "cell_type": "code",
   "execution_count": 27,
   "metadata": {},
   "outputs": [],
   "source": [
    "def conjugate_vecs_method(f, x, eps=1e-5):\n",
    "    step = 0\n",
    "    xs = [x]\n",
    "    \n",
    "    \n",
    "    return x, step, xs"
   ]
  },
  {
   "cell_type": "markdown",
   "metadata": {},
   "source": [
    "## Метод Ньютона"
   ]
  },
  {
   "cell_type": "markdown",
   "metadata": {},
   "source": [
    "- функция должна быть дважды дифференцируемой"
   ]
  },
  {
   "cell_type": "code",
   "execution_count": 28,
   "metadata": {},
   "outputs": [],
   "source": [
    "def newtons_method(f, x, eps=1e-5):\n",
    "    step = 0\n",
    "    xs = [x]\n",
    "    lr = 0.5\n",
    "    coef_crush = 0.5\n",
    "    while (np.linalg.norm(calc_df(f,x)) > eps):\n",
    "        x -= lr*(coef_crush**step)*calc_inv_hessian(f,x)*calc_df(f,x)\n",
    "        step += 1\n",
    "        xs.append(list(x))\n",
    "    \n",
    "    return x, step, xs"
   ]
  },
  {
   "cell_type": "markdown",
   "metadata": {},
   "source": [
    "## Старый добрый градиентный спуск"
   ]
  },
  {
   "cell_type": "code",
   "execution_count": 29,
   "metadata": {},
   "outputs": [],
   "source": [
    "def classic_gradient_descent(f, x, eps=1e-5):\n",
    "    step = 0\n",
    "    lr = 0.5\n",
    "    coef_crush = 0.5\n",
    "    xs = [x]\n",
    "    \n",
    "    while (np.linalg.norm(calc_df(f,x)) > eps):\n",
    "        x -= lr*(coef_crush**step)*calc_df(f,x)\n",
    "        step += 1\n",
    "        xs.append(list(x))\n",
    "        \n",
    "    return x, step, xs"
   ]
  },
  {
   "cell_type": "code",
   "execution_count": 16,
   "metadata": {},
   "outputs": [],
   "source": [
    "def quadratic_gradient_descent(Q, x, eps=1e-5):\n",
    "    step = 0\n",
    "    lr = 0.5\n",
    "    coef_crush =0.5\n",
    "    xs = [x]\n",
    "    \n",
    "    while (np.linalg.norm(Q * x) > eps):\n",
    "        x -= np.linalg.norm(np.eye(len(Q)) - lr*(coef_crush**step)*Q)*np.array(x)\n",
    "        step += 1\n",
    "        xs.append(list(x))\n",
    "        \n",
    "    return x, step, xs"
   ]
  },
  {
   "cell_type": "markdown",
   "metadata": {},
   "source": [
    "## Testing"
   ]
  },
  {
   "cell_type": "markdown",
   "metadata": {},
   "source": [
    "### Test data"
   ]
  },
  {
   "cell_type": "code",
   "execution_count": 19,
   "metadata": {},
   "outputs": [],
   "source": [
    "f = [\n",
    "    lambda x, y: 100*(y-x)**2 + (1-x)**2,\n",
    "    lambda x, y: 100*(y-x**2)**2 + (1-x)**2,\n",
    "]\n",
    "\n",
    "f_max = lambda x, y: 2*exp**(-((x-1)/2)**2 - (y-1)**2) + 3*exp**(-((x-2)/3)**2 - (((y-3)/2)**2))"
   ]
  },
  {
   "cell_type": "markdown",
   "metadata": {},
   "source": [
    "### Graphics"
   ]
  },
  {
   "cell_type": "markdown",
   "metadata": {},
   "source": [
    "#### Statistics"
   ]
  },
  {
   "cell_type": "code",
   "execution_count": null,
   "metadata": {},
   "outputs": [],
   "source": []
  },
  {
   "cell_type": "code",
   "execution_count": null,
   "metadata": {},
   "outputs": [],
   "source": []
  },
  {
   "cell_type": "markdown",
   "metadata": {},
   "source": [
    "#### Trajectory"
   ]
  },
  {
   "cell_type": "code",
   "execution_count": null,
   "metadata": {},
   "outputs": [],
   "source": []
  },
  {
   "cell_type": "code",
   "execution_count": null,
   "metadata": {},
   "outputs": [],
   "source": []
  }
 ],
 "metadata": {
  "kernelspec": {
   "display_name": "Python 3",
   "language": "python",
   "name": "python3"
  },
  "language_info": {
   "codemirror_mode": {
    "name": "ipython",
    "version": 3
   },
   "file_extension": ".py",
   "mimetype": "text/x-python",
   "name": "python",
   "nbconvert_exporter": "python",
   "pygments_lexer": "ipython3",
   "version": "3.8.3"
  },
  "toc": {
   "base_numbering": 1,
   "nav_menu": {},
   "number_sections": true,
   "sideBar": true,
   "skip_h1_title": false,
   "title_cell": "Table of Contents",
   "title_sidebar": "Contents",
   "toc_cell": false,
   "toc_position": {
    "height": "calc(100% - 180px)",
    "left": "10px",
    "top": "150px",
    "width": "207px"
   },
   "toc_section_display": true,
   "toc_window_display": true
  }
 },
 "nbformat": 4,
 "nbformat_minor": 4
}
